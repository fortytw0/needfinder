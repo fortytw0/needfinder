{
 "cells": [
  {
   "cell_type": "code",
   "execution_count": 1,
   "id": "538fe474-0cf1-48d7-ba6e-d1459a3a54a5",
   "metadata": {},
   "outputs": [],
   "source": [
    "import os \n",
    "os.chdir('/Users/dsrinivas/Projects/needfinder')"
   ]
  },
  {
   "cell_type": "code",
   "execution_count": 2,
   "id": "7f8c6acc-202f-4c67-a0c3-8853ca9dfe12",
   "metadata": {},
   "outputs": [],
   "source": [
    "import glob\n",
    "import numpy as np\n",
    "import pandas as pd"
   ]
  },
  {
   "cell_type": "code",
   "execution_count": 4,
   "id": "1e5f39e8-8d93-4f68-8432-60588eeff3bf",
   "metadata": {},
   "outputs": [],
   "source": [
    "file_paths = glob.glob('data/results/experiment2/experiment2/*.tsv')"
   ]
  },
  {
   "cell_type": "code",
   "execution_count": 11,
   "id": "40f9a213-b018-465e-9210-676220f72baf",
   "metadata": {},
   "outputs": [],
   "source": [
    "mrr = {}\n",
    "special_cases = {}"
   ]
  },
  {
   "cell_type": "code",
   "execution_count": 13,
   "id": "b8bb63c3-d89e-4f6c-8b7e-08f57c597fbb",
   "metadata": {},
   "outputs": [
    {
     "name": "stderr",
     "output_type": "stream",
     "text": [
      "<ipython-input-13-7068da02419e>:4: FutureWarning: The default value of regex will change from True to False in a future version. In addition, single character regular expressions will *not* be treated as literal strings when regex=True.\n",
      "  df.target_rank = df.target_rank.str.replace('[' , '')\n",
      "<ipython-input-13-7068da02419e>:5: FutureWarning: The default value of regex will change from True to False in a future version. In addition, single character regular expressions will *not* be treated as literal strings when regex=True.\n",
      "  df.target_rank = df.target_rank.str.replace(']' , '')\n"
     ]
    }
   ],
   "source": [
    "for file_path in file_paths : \n",
    "\n",
    "    df = pd.read_csv(file_path, delimiter='\\t')\n",
    "    df.target_rank = df.target_rank.str.replace('[' , '')\n",
    "    df.target_rank = df.target_rank.str.replace(']' , '')\n",
    "    df.target_rank = df.target_rank.astype(int)\n",
    "    df.target_rank += 1 \n",
    "    df['reciprocal_rank'] = 1/df['target_rank']\n",
    "    df.to_csv(file_path, sep='\\t' , index=False)\n",
    "    \n",
    "    mrr[file_path.replace('.tsv' , '')] = df['reciprocal_rank'].mean()\n",
    "    special_cases[file_path.replace('.tsv' , '')] = df[df['target_rank'] > 5]\n",
    "\n",
    "    "
   ]
  },
  {
   "cell_type": "code",
   "execution_count": 14,
   "id": "e6938faf-eacf-47dc-8e3e-3cea17405607",
   "metadata": {},
   "outputs": [
    {
     "data": {
      "text/plain": [
       "{'data/results/experiment2/experiment2/bert-uncased-256': 0.26822589921711654,\n",
       " 'data/results/experiment2/experiment2/longformer-1028': 0.10379734063408892,\n",
       " 'data/results/experiment2/experiment2/all-mpnet': 0.6661888482216948,\n",
       " 'data/results/experiment2/experiment2/multi-qa-mpnet': 0.5100178313771119,\n",
       " 'data/results/experiment2/experiment2/longformer-512': 0.10362853438573798,\n",
       " 'data/results/experiment2/experiment2/bert-uncased-512': 0.2588065938977764,\n",
       " 'data/results/experiment2/experiment2/bert-uncased-128': 0.24730894773249967,\n",
       " 'data/results/experiment2/experiment2/paraphrase': 0.37421924507365956}"
      ]
     },
     "execution_count": 14,
     "metadata": {},
     "output_type": "execute_result"
    }
   ],
   "source": [
    "mrr"
   ]
  },
  {
   "cell_type": "code",
   "execution_count": 21,
   "id": "249022fd-fcfe-45d8-95d3-66132d49da1f",
   "metadata": {},
   "outputs": [],
   "source": [
    "special_cases['data/results/experiment2/experiment2/all-mpnet'][['query' , 'target' , 'rank_1']].to_csv('special_cases.tsv' , sep='\\t' , index=False)"
   ]
  },
  {
   "cell_type": "code",
   "execution_count": null,
   "id": "216d4396-8586-4dbe-b65f-76cf3130d900",
   "metadata": {},
   "outputs": [],
   "source": []
  }
 ],
 "metadata": {
  "kernelspec": {
   "display_name": "Python 3",
   "language": "python",
   "name": "python3"
  },
  "language_info": {
   "codemirror_mode": {
    "name": "ipython",
    "version": 3
   },
   "file_extension": ".py",
   "mimetype": "text/x-python",
   "name": "python",
   "nbconvert_exporter": "python",
   "pygments_lexer": "ipython3",
   "version": "3.8.11"
  }
 },
 "nbformat": 4,
 "nbformat_minor": 5
}
