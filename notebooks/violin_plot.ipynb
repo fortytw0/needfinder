{
 "cells": [
  {
   "cell_type": "code",
   "execution_count": 4,
   "metadata": {},
   "outputs": [],
   "source": [
    "import os\n",
    "os.chdir('/gpfs/summit/scratch/dasr8731/needfinder/')"
   ]
  },
  {
   "cell_type": "code",
   "execution_count": 5,
   "metadata": {},
   "outputs": [],
   "source": [
    "import os\n",
    "import glob\n",
    "import json\n",
    "import string\n",
    "\n",
    "import pandas as pd\n",
    "import numpy as np"
   ]
  },
  {
   "cell_type": "code",
   "execution_count": 12,
   "metadata": {},
   "outputs": [],
   "source": [
    "eval_dirpath = 'data/eval_set'\n",
    "eval_results_path = 'data/*autoeval_results.csv' \n"
   ]
  },
  {
   "cell_type": "markdown",
   "metadata": {},
   "source": [
    "### Reading Groundtruth"
   ]
  },
  {
   "cell_type": "code",
   "execution_count": 6,
   "metadata": {},
   "outputs": [],
   "source": [
    "groundtruth = []\n",
    "files = glob.glob(os.path.join(eval_dirpath , '*.json'))\n",
    "for f in files : \n",
    "    groundtruth.append(json.load(open(f)))"
   ]
  },
  {
   "cell_type": "markdown",
   "metadata": {},
   "source": [
    "### Creating maps between quotes - title/section and vice versa"
   ]
  },
  {
   "cell_type": "code",
   "execution_count": 7,
   "metadata": {},
   "outputs": [],
   "source": [
    "ids2quotes = {}\n",
    "quotes2ids = {}\n",
    "\n",
    "for res in groundtruth :\n",
    "    title = res['title']\n",
    "    ids2quotes[title] = {}\n",
    "\n",
    "    for section in res['sections'] : \n",
    "        section_header = section['section_header']\n",
    "        ids2quotes[title][section_header] = section['quotes']\n",
    "\n",
    "        for quote in section['quotes'] : \n",
    "\n",
    "            quotes2ids[quote] = {'title' : title , \n",
    "                            'section' : section_header, \n",
    "                            }\n",
    "\n",
    "                    \n",
    "sentences = list(quotes2ids.keys())"
   ]
  },
  {
   "cell_type": "markdown",
   "metadata": {},
   "source": [
    "### Function definitions "
   ]
  },
  {
   "cell_type": "code",
   "execution_count": 8,
   "metadata": {},
   "outputs": [],
   "source": [
    "def get_adjacent_quotes(query, section_quotes) : \n",
    "    \n",
    "    query_index = section_quotes.index(query)\n",
    "    is_last_quote = False\n",
    "    is_first_quote = False\n",
    "    \n",
    "    if query_index == len(section_quotes)-1 : \n",
    "        is_last_quote = True\n",
    "        \n",
    "    if query_index == 0 : \n",
    "        is_first_quote = True\n",
    "        \n",
    "\n",
    "    if is_last_quote and is_first_quote : \n",
    "        return [None , None]\n",
    "    \n",
    "    elif is_last_quote and not is_first_quote:\n",
    "        return [section_quotes[query_index-1] , None]\n",
    "    \n",
    "    elif is_first_quote and not is_last_quote : \n",
    "        return [None, section_quotes[query_index+1] ]\n",
    "    \n",
    "    else :\n",
    "        return [section_quotes[query_index-1], section_quotes[query_index+1] ]"
   ]
  },
  {
   "cell_type": "code",
   "execution_count": 9,
   "metadata": {},
   "outputs": [],
   "source": [
    "def check_relation(query, target) : \n",
    "    \n",
    "    query_paper_title = quotes2ids[query]['title']\n",
    "    query_paper_section = quotes2ids[query]['section']\n",
    "    \n",
    "    title_quotes = []\n",
    "    for section_header , quotes in ids2quotes[query_paper_title].items() : \n",
    "        title_quotes.extend(quotes)\n",
    "        \n",
    "    section_quotes = ids2quotes[query_paper_title][query_paper_section]\n",
    "    \n",
    "    adjacent_quotes = get_adjacent_quotes(query, section_quotes)\n",
    "    \n",
    "    if target in adjacent_quotes :\n",
    "        return 'adjacent'\n",
    "    \n",
    "    elif target==query : \n",
    "        return 'same_quote'\n",
    "    \n",
    "    elif target in section_quotes : \n",
    "        return 'same_section'\n",
    "    \n",
    "    elif target in title_quotes : \n",
    "        return 'same_paper' \n",
    "    \n",
    "    else : \n",
    "        return 'different_paper'\n",
    "        "
   ]
  },
  {
   "cell_type": "markdown",
   "metadata": {},
   "source": [
    "### reading results"
   ]
  },
  {
   "cell_type": "code",
   "execution_count": 13,
   "metadata": {},
   "outputs": [
    {
     "data": {
      "text/plain": [
       "['data/multi-qa-mpnet-base-dot-v1_autoeval_results.csv',\n",
       " 'data/multi-qa-distilbert-cos-v1_autoeval_results.csv',\n",
       " 'data/all-mpnet-base-v2_autoeval_results.csv',\n",
       " 'data/paraphrase-MiniLM-L3-v2_autoeval_results.csv',\n",
       " 'data/autoeval_results.csv']"
      ]
     },
     "execution_count": 13,
     "metadata": {},
     "output_type": "execute_result"
    }
   ],
   "source": [
    "glob.glob(eval_results_path)"
   ]
  },
  {
   "cell_type": "code",
   "execution_count": 24,
   "metadata": {},
   "outputs": [
    {
     "name": "stdout",
     "output_type": "stream",
     "text": [
      "paraphrase-MiniLM-L3-v2\n",
      "count    23409.000000\n",
      "mean         0.127493\n",
      "std          0.142256\n",
      "min         -0.255449\n",
      "25%          0.039967\n",
      "50%          0.113901\n",
      "75%          0.194611\n",
      "max          1.000000\n",
      "Name: sim, dtype: float64\n"
     ]
    },
    {
     "data": {
      "image/png": "[encoded data removed]",
      "text/plain": [
       "<Figure size 432x288 with 1 Axes>"
      ]
     },
     "metadata": {},
     "output_type": "display_data"
    }
   ],
   "source": [
    "eval_result = 'data/paraphrase-MiniLM-L3-v2_autoeval_results.csv'\n",
    "\n",
    "\n",
    "\n",
    "model_name = os.path.basename(eval_result).replace('_autoeval_results.csv' , '')\n",
    "print(model_name)\n",
    "results_df  = pd.read_csv(eval_result, index_col=0)\n",
    "# print(results_df.head())\n",
    "\n",
    "\n",
    "# compiling relations and similarity \n",
    "\n",
    "relation_dict = {'query' : [] ,\n",
    "                'target' : [] , \n",
    "                'sim' : [] , \n",
    "                'relation' : []\n",
    "                }\n",
    "\n",
    "for query, row in results_df.iterrows() : \n",
    "\n",
    "    for target , sim in row.items() : \n",
    "\n",
    "        relation_dict['query'].append(query)\n",
    "        relation_dict['target'].append(target)\n",
    "        relation_dict['sim'].append(sim)\n",
    "        relation_dict['relation'].append(check_relation(query, target))\n",
    "\n",
    "relation_df = pd.DataFrame(relation_dict)\n",
    "\n",
    "# print(relation_df.head())\n",
    "print(relation_df['sim'].describe())\n",
    "\n",
    "# plotting violin plot\n",
    "\n",
    "import seaborn as sns\n",
    "\n",
    "sns.set_theme(style=\"whitegrid\")\n",
    "ax = sns.violinplot(y=relation_df[\"sim\"], x=relation_df[\"relation\"], scale='width')\n",
    "ax.figure.savefig('data/{}_violin_plot.png'.format(model_name))\n"
   ]
  },
  {
   "cell_type": "code",
   "execution_count": null,
   "metadata": {},
   "outputs": [],
   "source": []
  }
 ],
 "metadata": {
  "kernelspec": {
   "display_name": "Python 3",
   "language": "python",
   "name": "python3"
  },
  "language_info": {
   "codemirror_mode": {
    "name": "ipython",
    "version": 3
   },
   "file_extension": ".py",
   "mimetype": "text/x-python",
   "name": "python",
   "nbconvert_exporter": "python",
   "pygments_lexer": "ipython3",
   "version": "3.7.3"
  }
 },
 "nbformat": 4,
 "nbformat_minor": 4
}
