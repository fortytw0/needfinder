{
 "cells": [
  {
   "cell_type": "code",
   "execution_count": 1,
   "id": "154c6740-5c6c-448f-a180-3d0f1eae436f",
   "metadata": {},
   "outputs": [],
   "source": [
    "import numpy as np\n",
    "import string"
   ]
  },
  {
   "cell_type": "code",
   "execution_count": null,
   "id": "89a79417-05e2-472d-88b1-21d1800fd487",
   "metadata": {},
   "outputs": [],
   "source": []
  },
  {
   "cell_type": "code",
   "execution_count": 2,
   "id": "857cd44c-83d6-49c0-9b34-787bddeae430",
   "metadata": {},
   "outputs": [],
   "source": [
    "import spacy\n",
    "nlp = spacy.load(\"en_core_web_lg\")\n"
   ]
  },
  {
   "cell_type": "code",
   "execution_count": 19,
   "id": "9be16582-9e5f-4fb1-8f17-c8b958152d69",
   "metadata": {},
   "outputs": [],
   "source": [
    "def preprocess_string(str1) : \n",
    "    \n",
    "    str1 = str1.strip().lower() \n",
    "    \n",
    "    for char in string.punctuation : \n",
    "        str1 = str1.replace(char, '')\n",
    "        \n",
    "    str1 = str1.split(' ')\n",
    "    \n",
    "    str1 = ' '.join([word for word in str1 if word not in nlp.Defaults.stop_words])\n",
    "        \n",
    "    return str1"
   ]
  },
  {
   "cell_type": "code",
   "execution_count": 20,
   "id": "e4221e9d-4f8f-416f-92a0-3422bfdeafed",
   "metadata": {},
   "outputs": [],
   "source": [
    "def jaq_sim(str1, str2) : \n",
    "    \n",
    "    str1 = preprocess_string(str1)\n",
    "    str2 = preprocess_string(str2)\n",
    "        \n",
    "    str1 = set(str1.split(' '))\n",
    "    str2 = set(str2.split(' '))\n",
    "    \n",
    "    num_union = len(set.union(str1, str2))\n",
    "    num_intersection = len(set.intersection(str1, str2))\n",
    "        \n",
    "    return num_intersection/num_union"
   ]
  },
  {
   "cell_type": "code",
   "execution_count": 21,
   "id": "4410493d-b79e-4d82-bed1-966106ada218",
   "metadata": {},
   "outputs": [
    {
     "data": {
      "text/plain": [
       "0.08695652173913043"
      ]
     },
     "execution_count": 21,
     "metadata": {},
     "output_type": "execute_result"
    }
   ],
   "source": [
    "jaq_sim('Abstract Meaning Representation (AMR) is a semantic representation language that provides a way to represent the meaning of a sentence in the form of a graph.', \n",
    "        'The task of AMR parsing—automatically extracting AMR graphs from natural language text—necessitates evaluation metrics to develop neural parsers.')"
   ]
  },
  {
   "cell_type": "code",
   "execution_count": 22,
   "id": "cf277738-2a12-4b33-8f63-8f5757a83b61",
   "metadata": {},
   "outputs": [],
   "source": [
    "def extract_bigrams(str1) : \n",
    "    \n",
    "    str1_1 = str1[0:]\n",
    "    str1_2 = str1[1:]\n",
    "    \n",
    "    return list(zip(str1_1, str1_2))"
   ]
  },
  {
   "cell_type": "code",
   "execution_count": 23,
   "id": "f7f3aca0-5b00-4c4a-aeca-82f7d7154fff",
   "metadata": {},
   "outputs": [],
   "source": [
    "def bigram_jaq_sim(str1, str2) : \n",
    "    \n",
    "    str1 = preprocess_string(str1).split(' ')\n",
    "    str2 = preprocess_string(str2).split(' ')\n",
    "        \n",
    "    str1_bigram = set(extract_bigrams(str1))\n",
    "    str2_bigram = set(extract_bigrams(str2))\n",
    "    \n",
    "    print(str1_bigram)\n",
    "    print(str2_bigram)\n",
    "    \n",
    "    num_union = len(set.union(str1_bigram, str2_bigram))\n",
    "    num_intersection = len(set.intersection(str1_bigram, str2_bigram))\n",
    "        \n",
    "    return num_intersection/num_union"
   ]
  },
  {
   "cell_type": "code",
   "execution_count": 24,
   "id": "1259b3a7-accb-43a3-b8c2-5caf796b4d06",
   "metadata": {},
   "outputs": [],
   "source": [
    "str1 = 'Abstract Meaning Representation (AMR) is a semantic representation language that provides a way to represent the meaning of a sentence in the form of a graph.'\n",
    "str2 = 'The task of AMR parsing—automatically extracting AMR graphs from natural language text—necessitates evaluation metrics to develop neural parsers.'"
   ]
  },
  {
   "cell_type": "code",
   "execution_count": 25,
   "id": "82d230c0-30d4-462d-9464-b3ec920b31b6",
   "metadata": {},
   "outputs": [
    {
     "name": "stdout",
     "output_type": "stream",
     "text": [
      "{('meaning', 'representation'), ('semantic', 'representation'), ('language', 'provides'), ('way', 'represent'), ('representation', 'language'), ('represent', 'meaning'), ('meaning', 'sentence'), ('provides', 'way'), ('sentence', 'form'), ('amr', 'semantic'), ('abstract', 'meaning'), ('form', 'graph'), ('representation', 'amr')}\n",
      "{('graphs', 'natural'), ('amr', 'graphs'), ('amr', 'parsing—automatically'), ('parsing—automatically', 'extracting'), ('language', 'text—necessitates'), ('natural', 'language'), ('text—necessitates', 'evaluation'), ('metrics', 'develop'), ('develop', 'neural'), ('extracting', 'amr'), ('task', 'amr'), ('evaluation', 'metrics'), ('neural', 'parsers')}\n"
     ]
    },
    {
     "data": {
      "text/plain": [
       "0.0"
      ]
     },
     "execution_count": 25,
     "metadata": {},
     "output_type": "execute_result"
    }
   ],
   "source": [
    "bigram_jaq_sim('Abstract Meaning Representation (AMR) is a semantic representation language that provides a way to represent the meaning of a sentence in the form of a graph.', \n",
    "        'The task of AMR parsing—automatically extracting AMR graphs from natural language text—necessitates evaluation metrics to develop neural parsers.')"
   ]
  },
  {
   "cell_type": "code",
   "execution_count": 26,
   "id": "68202859-9da2-4b6c-86b7-6c94b4218570",
   "metadata": {},
   "outputs": [],
   "source": [
    "base_doc = nlp.Defaults.stop_words"
   ]
  },
  {
   "cell_type": "code",
   "execution_count": 29,
   "id": "bd2bdef5-d727-4f63-8854-75d7cc3b8769",
   "metadata": {},
   "outputs": [],
   "source": [
    "str1_doc = nlp(preprocess_string(str1))\n",
    "str2_doc = nlp(preprocess_string(str2))"
   ]
  },
  {
   "cell_type": "code",
   "execution_count": 30,
   "id": "c9c25a11-b138-499e-9bb7-60495c8b703b",
   "metadata": {},
   "outputs": [
    {
     "data": {
      "text/plain": [
       "0.7665917965462826"
      ]
     },
     "execution_count": 30,
     "metadata": {},
     "output_type": "execute_result"
    }
   ],
   "source": [
    "str1_doc.similarity(str2_doc)"
   ]
  },
  {
   "cell_type": "code",
   "execution_count": null,
   "id": "ab3e56bf-3c19-4dc2-8154-99b66e0f10d0",
   "metadata": {},
   "outputs": [],
   "source": []
  },
  {
   "cell_type": "code",
   "execution_count": null,
   "id": "4ccf6bf0-bbfa-45e6-8379-31a9abd1952a",
   "metadata": {},
   "outputs": [],
   "source": []
  }
 ],
 "metadata": {
  "kernelspec": {
   "display_name": "Python 3",
   "language": "python",
   "name": "python3"
  },
  "language_info": {
   "codemirror_mode": {
    "name": "ipython",
    "version": 3
   },
   "file_extension": ".py",
   "mimetype": "text/x-python",
   "name": "python",
   "nbconvert_exporter": "python",
   "pygments_lexer": "ipython3",
   "version": "3.8.13"
  }
 },
 "nbformat": 4,
 "nbformat_minor": 5
}
