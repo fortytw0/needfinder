{
 "cells": [
  {
   "cell_type": "code",
   "execution_count": 1,
   "metadata": {},
   "outputs": [
    {
     "name": "stdout",
     "output_type": "stream",
     "text": [
      "Defaulting to user installation because normal site-packages is not writeable\n",
      "Requirement already satisfied: seaborn in /home/dasr8731/.local/lib/python3.7/site-packages (0.11.2)\n",
      "Requirement already satisfied: numpy>=1.15 in /curc/sw/anaconda3/2019.07/envs/jupyterlab2/lib/python3.7/site-packages (from seaborn) (1.18.1)\n",
      "Requirement already satisfied: scipy>=1.0 in /curc/sw/anaconda3/2019.07/envs/jupyterlab2/lib/python3.7/site-packages (from seaborn) (1.4.1)\n",
      "Requirement already satisfied: matplotlib>=2.2 in /curc/sw/anaconda3/2019.07/envs/jupyterlab2/lib/python3.7/site-packages (from seaborn) (3.1.3)\n",
      "Requirement already satisfied: pandas>=0.23 in /curc/sw/anaconda3/2019.07/envs/jupyterlab2/lib/python3.7/site-packages (from seaborn) (1.0.3)\n",
      "Requirement already satisfied: kiwisolver>=1.0.1 in /curc/sw/anaconda3/2019.07/envs/jupyterlab2/lib/python3.7/site-packages (from matplotlib>=2.2->seaborn) (1.2.0)\n",
      "Requirement already satisfied: pyparsing!=2.0.4,!=2.1.2,!=2.1.6,>=2.0.1 in /curc/sw/anaconda3/2019.07/envs/jupyterlab2/lib/python3.7/site-packages (from matplotlib>=2.2->seaborn) (2.4.7)\n",
      "Requirement already satisfied: python-dateutil>=2.1 in /curc/sw/anaconda3/2019.07/envs/jupyterlab2/lib/python3.7/site-packages (from matplotlib>=2.2->seaborn) (2.8.1)\n",
      "Requirement already satisfied: cycler>=0.10 in /curc/sw/anaconda3/2019.07/envs/jupyterlab2/lib/python3.7/site-packages (from matplotlib>=2.2->seaborn) (0.10.0)\n",
      "Requirement already satisfied: pytz>=2017.2 in /curc/sw/anaconda3/2019.07/envs/jupyterlab2/lib/python3.7/site-packages (from pandas>=0.23->seaborn) (2020.1)\n",
      "Requirement already satisfied: six>=1.5 in /curc/sw/anaconda3/2019.07/envs/jupyterlab2/lib/python3.7/site-packages (from python-dateutil>=2.1->matplotlib>=2.2->seaborn) (1.14.0)\n"
     ]
    }
   ],
   "source": [
    "!pip install seaborn"
   ]
  },
  {
   "cell_type": "code",
   "execution_count": 2,
   "metadata": {},
   "outputs": [],
   "source": [
    "import seaborn as sns"
   ]
  },
  {
   "cell_type": "code",
   "execution_count": 3,
   "metadata": {},
   "outputs": [
    {
     "data": {
      "text/plain": [
       "'/gpfs/summit/scratch/dasr8731/needfinder'"
      ]
     },
     "execution_count": 3,
     "metadata": {},
     "output_type": "execute_result"
    }
   ],
   "source": [
    "import os\n",
    "os.chdir('..')\n",
    "os.getcwd()"
   ]
  },
  {
   "cell_type": "code",
   "execution_count": 4,
   "metadata": {},
   "outputs": [],
   "source": [
    "import glob\n",
    "import json\n",
    "import string\n",
    "\n",
    "import pandas as pd\n",
    "import numpy as np\n"
   ]
  },
  {
   "cell_type": "code",
   "execution_count": 5,
   "metadata": {},
   "outputs": [],
   "source": [
    "eval_dirpath = 'data/eval_set'\n",
    "eval_results_path = 'data/autoeval_results.csv' "
   ]
  },
  {
   "cell_type": "code",
   "execution_count": 6,
   "metadata": {},
   "outputs": [],
   "source": [
    "groundtruth = []\n",
    "files = glob.glob(os.path.join(eval_dirpath , '*.json'))\n",
    "for f in files : \n",
    "    groundtruth.append(json.load(open(f)))"
   ]
  },
  {
   "cell_type": "code",
   "execution_count": 7,
   "metadata": {},
   "outputs": [],
   "source": [
    "ids2quotes = {}\n",
    "quotes2ids = {}\n",
    "\n",
    "for res in groundtruth :\n",
    "    title = res['title']\n",
    "    ids2quotes[title] = {}\n",
    "\n",
    "    for section in res['sections'] : \n",
    "        section_header = section['section_header']\n",
    "        ids2quotes[title][section_header] = section['quotes']\n",
    "\n",
    "        for quote in section['quotes'] : \n",
    "\n",
    "            quotes2ids[quote] = {'title' : title , \n",
    "                            'section' : section_header, \n",
    "                            }\n",
    "\n",
    "                    \n",
    "sentences = list(quotes2ids.keys())"
   ]
  },
  {
   "cell_type": "code",
   "execution_count": 8,
   "metadata": {},
   "outputs": [],
   "source": [
    "def get_adjacent_quotes(query, section_quotes) : \n",
    "    \n",
    "    query_index = section_quotes.index(query)\n",
    "    is_last_quote = False\n",
    "    is_first_quote = False\n",
    "    \n",
    "    if query_index == len(section_quotes)-1 : \n",
    "        is_last_quote = True\n",
    "        \n",
    "    if query_index == 0 : \n",
    "        is_first_quote = True\n",
    "        \n",
    "\n",
    "    if is_last_quote and is_first_quote : \n",
    "        return [None , None]\n",
    "    \n",
    "    elif is_last_quote and not is_first_quote:\n",
    "        return [section_quotes[query_index-1] , None]\n",
    "    \n",
    "    elif is_first_quote and not is_last_quote : \n",
    "        return [None, section_quotes[query_index+1] ]\n",
    "    \n",
    "    else :\n",
    "        return [section_quotes[query_index-1], section_quotes[query_index+1] ]"
   ]
  },
  {
   "cell_type": "code",
   "execution_count": 9,
   "metadata": {},
   "outputs": [],
   "source": [
    "def check_relation(query, target) : \n",
    "    \n",
    "    query_paper_title = quotes2ids[query]['title']\n",
    "    query_paper_section = quotes2ids[query]['section']\n",
    "    \n",
    "    title_quotes = []\n",
    "    for section_header , quotes in ids2quotes[query_paper_title].items() : \n",
    "        title_quotes.extend(quotes)\n",
    "        \n",
    "    section_quotes = ids2quotes[query_paper_title][query_paper_section]\n",
    "    \n",
    "    adjacent_quotes = get_adjacent_quotes(query, section_quotes)\n",
    "    \n",
    "    if target in adjacent_quotes :\n",
    "        return 'adjacent'\n",
    "    \n",
    "    elif target==query : \n",
    "        return 'same_quote'\n",
    "    \n",
    "    elif target in section_quotes : \n",
    "        return 'same_section'\n",
    "    \n",
    "    elif target in title_quotes : \n",
    "        return 'same_paper' \n",
    "    \n",
    "    else : \n",
    "        return 'different_paper'"
   ]
  },
  {
   "cell_type": "code",
   "execution_count": 10,
   "metadata": {},
   "outputs": [],
   "source": [
    "results_df  = pd.read_csv(eval_results_path, index_col=0)"
   ]
  },
  {
   "cell_type": "code",
   "execution_count": 11,
   "metadata": {},
   "outputs": [],
   "source": [
    "relation_dict = {'query' : [] ,\n",
    "                'target' : [] , \n",
    "                'sim' : [] , \n",
    "                'relation' : [], \n",
    "                }\n",
    "\n",
    "for query, row in results_df.iterrows() : \n",
    "    \n",
    "    for target , sim in row.items() : \n",
    "    \n",
    "        relation_dict['query'].append(query)\n",
    "        relation_dict['target'].append(target)\n",
    "        relation_dict['sim'].append(sim)\n",
    "        relation_dict['relation'].append(check_relation(query, target))\n",
    "    \n",
    "relation_df = pd.DataFrame(relation_dict)"
   ]
  },
  {
   "cell_type": "code",
   "execution_count": 14,
   "metadata": {},
   "outputs": [
    {
     "data": {
      "image/png": "[encoded data removed]",
      "text/plain": [
       "<Figure size 432x288 with 1 Axes>"
      ]
     },
     "metadata": {},
     "output_type": "display_data"
    }
   ],
   "source": [
    "sns.set_theme(style=\"whitegrid\")\n",
    "ax = sns.boxplot(y=relation_df[\"sim\"], x=relation_df[\"relation\"])\n",
    "# ax.set_xticklabels(ax.get_xticklabels(), rotation=90)"
   ]
  },
  {
   "cell_type": "code",
   "execution_count": 16,
   "metadata": {},
   "outputs": [],
   "source": [
    "relation_df.to_csv('data/results-adjacency_vs_sim.csv' , index=False)"
   ]
  },
  {
   "cell_type": "code",
   "execution_count": null,
   "metadata": {},
   "outputs": [],
   "source": []
  }
 ],
 "metadata": {
  "kernelspec": {
   "display_name": "Python 3",
   "language": "python",
   "name": "python3"
  },
  "language_info": {
   "codemirror_mode": {
    "name": "ipython",
    "version": 3
   },
   "file_extension": ".py",
   "mimetype": "text/x-python",
   "name": "python",
   "nbconvert_exporter": "python",
   "pygments_lexer": "ipython3",
   "version": "3.7.3"
  }
 },
 "nbformat": 4,
 "nbformat_minor": 5
}
