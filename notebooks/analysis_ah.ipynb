{
 "cells": [
  {
   "cell_type": "code",
   "execution_count": 16,
   "metadata": {},
   "outputs": [],
   "source": [
    "import pandas as pd\n",
    "import numpy as np\n",
    "import matplotlib.pyplot as plt"
   ]
  },
  {
   "cell_type": "code",
   "execution_count": 3,
   "metadata": {},
   "outputs": [],
   "source": [
    "df = pd.read_csv(\"/scratch/summit/abha4861/dj/needfinder/data/results/1657388987/arora_sim.csv\")\n",
    "sbert = pd.read_csv(\"/scratch/summit/abha4861/dj/needfinder/data/results/1657388987/sbert_sim.csv\")"
   ]
  },
  {
   "cell_type": "code",
   "execution_count": 23,
   "metadata": {},
   "outputs": [
    {
     "name": "stdout",
     "output_type": "stream",
     "text": [
      "{\"corpus_files\": [\"data/airbnb_hosts.jsonl\"], \"embedding_type\": \"glove\", \"embedding_dimension\": 100, \"model_name\": \"paraphrase-MiniLM-L3-v2\", \"community_name\": \"airbnb_hosts\", \"interview_quotes\": \"data/labels.json\"}"
     ]
    }
   ],
   "source": [
    "! cat /scratch/summit/abha4861/dj/needfinder/data/results/1657388987/config.json"
   ]
  },
  {
   "cell_type": "markdown",
   "metadata": {},
   "source": [
    "### The predictions from Arora + glove are correlated w/ sbert somewhat on airbnb"
   ]
  },
  {
   "cell_type": "code",
   "execution_count": 24,
   "metadata": {},
   "outputs": [
    {
     "data": {
      "text/plain": [
       "0.410092511501535"
      ]
     },
     "execution_count": 24,
     "metadata": {},
     "output_type": "execute_result"
    }
   ],
   "source": [
    "from scipy.stats import spearmanr\n",
    "\n",
    "totals = []\n",
    "\n",
    "for column in df.columns[1:]:\n",
    "    a = df[column].to_numpy()\n",
    "    b = sbert[column].to_numpy()\n",
    "    corr,p = spearmanr(a, b)\n",
    "    totals.append(corr)\n",
    "\n",
    "np.mean(totals)"
   ]
  },
  {
   "cell_type": "code",
   "execution_count": 12,
   "metadata": {},
   "outputs": [
    {
     "data": {
      "text/plain": [
       "Text(0.5, 1.0, 'Arora + glove')"
      ]
     },
     "execution_count": 12,
     "metadata": {},
     "output_type": "execute_result"
    },
    {
     "data": {
      "image/png": "[encoded data removed]",
      "text/plain": [
       "<Figure size 432x288 with 1 Axes>"
      ]
     },
     "metadata": {
      "needs_background": "light"
     },
     "output_type": "display_data"
    }
   ],
   "source": [
    "df[df.columns[3]].hist(bins=30)\n",
    "plt.title('Arora + glove')"
   ]
  },
  {
   "cell_type": "code",
   "execution_count": 13,
   "metadata": {},
   "outputs": [
    {
     "data": {
      "text/plain": [
       "Text(0.5, 1.0, 'Arora + w2v')"
      ]
     },
     "execution_count": 13,
     "metadata": {},
     "output_type": "execute_result"
    },
    {
     "data": {
      "image/png": "[encoded data removed]",
      "text/plain": [
       "<Figure size 432x288 with 1 Axes>"
      ]
     },
     "metadata": {
      "needs_background": "light"
     },
     "output_type": "display_data"
    }
   ],
   "source": [
    "df2 = pd.read_csv(\"/scratch/summit/abha4861/dj/needfinder/data/results/1657333097/arora_sim.csv\")\n",
    "df2[df2.columns[3]].hist(bins=30)\n",
    "plt.title('Arora + w2v')"
   ]
  },
  {
   "cell_type": "code",
   "execution_count": null,
   "metadata": {},
   "outputs": [],
   "source": []
  }
 ],
 "metadata": {
  "kernelspec": {
   "display_name": "Python 3",
   "language": "python",
   "name": "python3"
  },
  "language_info": {
   "codemirror_mode": {
    "name": "ipython",
    "version": 3
   },
   "file_extension": ".py",
   "mimetype": "text/x-python",
   "name": "python",
   "nbconvert_exporter": "python",
   "pygments_lexer": "ipython3",
   "version": "3.7.3"
  }
 },
 "nbformat": 4,
 "nbformat_minor": 4
}
