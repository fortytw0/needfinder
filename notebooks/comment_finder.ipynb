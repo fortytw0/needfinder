{
 "cells": [
  {
   "cell_type": "markdown",
   "id": "44e25887-d0fd-44b6-bae4-4dab727d77f6",
   "metadata": {},
   "source": [
    "## Comment-Quote Similarity"
   ]
  },
  {
   "cell_type": "code",
   "execution_count": null,
   "id": "42be8f60-d7e6-43e6-ad15-5f79ea887c04",
   "metadata": {},
   "outputs": [],
   "source": []
  }
 ],
 "metadata": {
  "kernelspec": {
   "display_name": "Python 3",
   "language": "python",
   "name": "python3"
  },
  "language_info": {
   "codemirror_mode": {
    "name": "ipython",
    "version": 3
   },
   "file_extension": ".py",
   "mimetype": "text/x-python",
   "name": "python",
   "nbconvert_exporter": "python",
   "pygments_lexer": "ipython3",
   "version": "3.8.13"
  }
 },
 "nbformat": 4,
 "nbformat_minor": 5
}
